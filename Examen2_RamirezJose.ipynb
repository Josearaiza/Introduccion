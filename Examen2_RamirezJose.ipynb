{
 "cells": [
  {
   "cell_type": "markdown",
   "id": "8bc2f283",
   "metadata": {
    "colab_type": "text",
    "id": "GJV4HZf_7eDM"
   },
   "source": [
    "# Examen Módulo 2\n",
    "\n",
    "**Mantenga la calma y lea cuidadosamente las siguientes indicaciones antes de comenzar el examen:**\n",
    "- Para resolver el examen edite este mismo archivo y renómbrelo de la siguiente manera: *Examen2_ApellidoNombre*, donde *ApellidoNombre* corresponde a su apellido paterno con la inicial en mayúscula, seguido de su primer nombre con la inicial en mayúscula **sin acentos**. Por ejemplo, en mi caso el nombre del archivo sería *Examen2_MoralesGabriel*.\n",
    "- Resuelva los puntos en el espacio provisto. Si requiere agregar más celdas para código o escritura, hágalo (`Esc`+`B`) o (`Esc`+`A`).\n",
    "- Recuerde que también se está evaluando su capacidad de interpretar los resultados. Escriba sus interpretaciones/conclusiones en celdas utilizando *Markdown*.\n",
    "- El formato de presentación de todo el examen en general debe ser adecuado. Use tamaños de letra, colores, etiquetas, etcétera.\n",
    "- No se resuelven dudas de ningún tipo por los profesores de la asignatura. Por favor absténgase de preguntar."
   ]
  },
  {
   "cell_type": "markdown",
   "id": "30ec3475",
   "metadata": {},
   "source": [
    "# ANTES DE EMPEZAR"
   ]
  },
  {
   "cell_type": "markdown",
   "id": "c2e65c9c",
   "metadata": {},
   "source": [
    "Escribe tu número de expediente como semilla"
   ]
  },
  {
   "cell_type": "code",
   "execution_count": 1,
   "id": "f68bac14",
   "metadata": {},
   "outputs": [
    {
     "name": "stdout",
     "output_type": "stream",
     "text": [
      "Simulación Monte Carlo - Problema 1\n",
      "Integración Monte Carlo Tipo 1 - Problema 2\n",
      "Integración Monte Carlo Tipo 2 - Función 1\n",
      "Fractales - Fractal 1\n",
      "Probabilidad Precio-Umbral - Empresas: (['Mercado Libre' 'Google'])\n"
     ]
    }
   ],
   "source": [
    "import numpy as np\n",
    "np.random.seed(747818)\n",
    "\n",
    "empresas = [\"Spotify\", \"Mercado Libre\", \"Microsoft\", \"Walmart\", \"Google\", \"Tesla\", \"Netflix\", \"Amazon\", \"Oracle\", \"Intel\"]\n",
    "\n",
    "print(\"Simulación Monte Carlo - Problema \" + str(np.random.choice([1, 2])))\n",
    "print(\"Integración Monte Carlo Tipo 1 - Problema \" + str(np.random.choice([1, 2])))\n",
    "print(\"Integración Monte Carlo Tipo 2 - Función \" + str(np.random.choice([1, 2])))\n",
    "print(\"Fractales - Fractal \" + str(np.random.choice([1, 2])))\n",
    "print(\"Probabilidad Precio-Umbral - Empresas: (\" + str(np.random.choice(empresas, 2, replace=False)) + \")\")"
   ]
  },
  {
   "cell_type": "markdown",
   "id": "4d2c9519",
   "metadata": {},
   "source": [
    "---\n",
    "### Simulación Monte Carlo - Problema 1"
   ]
  },
  {
   "cell_type": "markdown",
   "id": "381d2591",
   "metadata": {},
   "source": [
    "Un proyecto de construcción en una casa está por comenzar. Se hace la compra de los materiales y el proveedor dice que en promedio tardan una semana con 2 días de desviación estándar en llegar. Una vez llegados los materiales se tarda entre 2 y 3 semanas en construir (uniforme). Después de la construcción debes esperar 3 días antes de empezar a pintar, y te toma 4 días en promedio con medio día de desviación estándar hacerlo."
   ]
  },
  {
   "cell_type": "markdown",
   "id": "baa01e20",
   "metadata": {},
   "source": [
    "1. Define una función que te regrese el tiempo total de inicio a fin de proyecto dados los tiempos que toma cada paso."
   ]
  },
  {
   "cell_type": "code",
   "execution_count": 2,
   "id": "80ec8d14",
   "metadata": {},
   "outputs": [
    {
     "name": "stdout",
     "output_type": "stream",
     "text": [
      "El tiempo total del proyecto es: 33.50162147636883 días\n"
     ]
    }
   ],
   "source": [
    "import numpy as np\n",
    "\n",
    "def tiempo_total_proyecto(tiempo_compra_materiales, tiempo_construccion, tiempo_espera_pintura, tiempo_pintura):\n",
    "    \n",
    "    tiempo_llegada_materiales = np.random.normal(tiempo_compra_materiales, 2)\n",
    "\n",
    "    tiempo_construccion = np.random.uniform(tiempo_construccion[0], tiempo_construccion[1])\n",
    "    \n",
    "\n",
    "    tiempo_pintura = np.random.normal(tiempo_pintura, 0.5)\n",
    "\n",
    "    \n",
    "    tiempo_total = tiempo_llegada_materiales + tiempo_construccion + tiempo_espera_pintura + tiempo_pintura\n",
    "    \n",
    "    return tiempo_total\n",
    "\n",
    "\n",
    "tiempo_compra_materiales = 7  # 1 semana (7 días)\n",
    "tiempo_construccion = (14, 21)  # Entre 2 y 3 semanas (14-21 días)\n",
    "tiempo_espera_pintura = 3  # 3 días\n",
    "tiempo_pintura = 4  # 4 días\n",
    "\n",
    "tiempo_total = tiempo_total_proyecto(tiempo_compra_materiales, tiempo_construccion, tiempo_espera_pintura, tiempo_pintura)\n",
    "print(\"El tiempo total del proyecto es:\", tiempo_total, \"días\")\n"
   ]
  },
  {
   "cell_type": "markdown",
   "id": "9fd873c7",
   "metadata": {},
   "source": [
    "2. Escribe en una celda de Markdown qué distribución usarías para cada paso del proceso."
   ]
  },
  {
   "cell_type": "markdown",
   "id": "de2b34d1",
   "metadata": {},
   "source": [
    "1. **Tiempo de llegada de los materiales**: Se puede utilizar una **distribución normal** para modelar el tiempo de llegada de los materiales, ya que el proveedor dice que en promedio tardan una semana (7 días) con 2 días de desviación estándar. La distribución normal sirve para modelar eventos que siguen una distribución de campana de Gauss.\n",
    "\n",
    "2. **Tiempo de construcción**: Se puede utilizar una **distribución uniforme** para modelar el tiempo de construcción, ya que se indica que el tiempo de construcción se encuentra en el rango de 2 a 3 semanas. La distribución uniforme sirve cuando todos los valores dentro de un rango son igualmente probables.\n",
    "3. **Tiempo de espera antes de la pintura**: Este paso toma exactamente 3 días, por lo que no se necesita una distribución, sino un valor fijo.\n",
    "\n",
    "4. **Tiempo de pintura**: Aquí se puede utilizar otra vez una **distribución normal** para modelar el tiempo de pintura, ya que se toma un promedio de 4 días con medio día de desviación estándar.\n"
   ]
  },
  {
   "cell_type": "markdown",
   "id": "1a0af99b",
   "metadata": {},
   "source": [
    "3. Simula cada paso en el proceso un millón de veces."
   ]
  },
  {
   "cell_type": "code",
   "execution_count": 105,
   "id": "0a4e82ef",
   "metadata": {},
   "outputs": [],
   "source": [
    "import numpy as np\n",
    "\n",
    "tiempo_compra_materiales = 7\n",
    "tiempo_construccion = (14, 21)\n",
    "tiempo_espera_pintura = 3\n",
    "tiempo_pintura = 4\n",
    "\n",
    "num_simulaciones = 1000000\n",
    "\n",
    "\n",
    "tiempos_llegada_materiales = np.random.normal(tiempo_compra_materiales, 2, num_simulaciones)\n",
    "\n",
    "\n",
    "tiempos_construccion = np.random.uniform(tiempo_construccion[0], tiempo_construccion[1], num_simulaciones)\n",
    "\n",
    "\n",
    "tiempos_espera_pintura = np.full(num_simulaciones, tiempo_espera_pintura)\n",
    "\n",
    "\n",
    "tiempos_pintura = np.random.normal(tiempo_pintura, 0.5, num_simulaciones)\n",
    "\n",
    "\n",
    "tiempos_totales = tiempos_llegada_materiales + tiempos_construccion + tiempos_espera_pintura + tiempos_pintura\n",
    "\n",
    "\n"
   ]
  },
  {
   "cell_type": "markdown",
   "id": "f10abff3",
   "metadata": {},
   "source": [
    "4. Agrupa las simulaciones de cada paso para tener la simulación del proceso completo."
   ]
  },
  {
   "cell_type": "code",
   "execution_count": 110,
   "id": "84ffe52c",
   "metadata": {},
   "outputs": [],
   "source": [
    "import numpy as np\n",
    "\n",
    "tiempo_compra_materiales = 7\n",
    "tiempo_construccion = (14, 21)\n",
    "tiempo_espera_pintura = 3\n",
    "tiempo_pintura = 4\n",
    "\n",
    "\n",
    "num_simulaciones = 1000000\n",
    "\n",
    "tiempos_llegada_materiales = np.random.normal(tiempo_compra_materiales, 2, num_simulaciones)\n",
    "\n",
    "\n",
    "tiempos_construccion = np.random.uniform(tiempo_construccion[0], tiempo_construccion[1], num_simulaciones)\n",
    "\n",
    "\n",
    "tiempos_espera_pintura = np.full(num_simulaciones, tiempo_espera_pintura)\n",
    "\n",
    "\n",
    "tiempos_pintura = np.random.normal(tiempo_pintura, 0.5, num_simulaciones)\n",
    "\n",
    "\n",
    "tiempos_totales = tiempos_llegada_materiales + tiempos_construccion + tiempos_espera_pintura + tiempos_pintura\n"
   ]
  },
  {
   "cell_type": "markdown",
   "id": "022c4563",
   "metadata": {},
   "source": [
    "\n",
    "5. ¿Cuál es el tiempo promedio para el inicio-fin del proyecto?"
   ]
  },
  {
   "cell_type": "code",
   "execution_count": 111,
   "id": "66090dbf",
   "metadata": {},
   "outputs": [
    {
     "name": "stdout",
     "output_type": "stream",
     "text": [
      "El tiempo promedio para el inicio-fin del proyecto es: 31.500708065548395 días\n"
     ]
    }
   ],
   "source": [
    "tiempo_promedio = np.mean(tiempos_totales)\n",
    "print(\"El tiempo promedio para el inicio-fin del proyecto es:\", tiempo_promedio, \"días\")\n"
   ]
  },
  {
   "cell_type": "markdown",
   "id": "1af48a29",
   "metadata": {},
   "source": [
    "6. Dadas tus simulaciones, ¿cuál fue el tiempo mínimo? ¿El máximo?"
   ]
  },
  {
   "cell_type": "code",
   "execution_count": 108,
   "id": "846efd54",
   "metadata": {},
   "outputs": [
    {
     "name": "stdout",
     "output_type": "stream",
     "text": [
      "Tiempo mínimo para el inicio-fin del proyecto: 19.498492586114338 días\n",
      "Tiempo máximo para el inicio-fin del proyecto: 43.60037664746836 días\n"
     ]
    }
   ],
   "source": [
    "tiempo_minimo = np.min(tiempos_totales)\n",
    "tiempo_maximo = np.max(tiempos_totales)\n",
    "\n",
    "print(\"Tiempo mínimo para el inicio-fin del proyecto:\", tiempo_minimo, \"días\")\n",
    "print(\"Tiempo máximo para el inicio-fin del proyecto:\", tiempo_maximo, \"días\")\n"
   ]
  },
  {
   "cell_type": "markdown",
   "id": "9578f817",
   "metadata": {},
   "source": [
    "7. Grafica un histograma con tus resultados."
   ]
  },
  {
   "cell_type": "code",
   "execution_count": 109,
   "id": "ecbcb3f1",
   "metadata": {},
   "outputs": [
    {
     "data": {
      "image/png": "[encoded data removed]",
      "text/plain": [
       "<Figure size 640x480 with 1 Axes>"
      ]
     },
     "metadata": {},
     "output_type": "display_data"
    }
   ],
   "source": [
    "import matplotlib.pyplot as plt\n",
    "\n",
    "plt.hist(tiempos_totales, bins=30, edgecolor='k', density=True)\n",
    "plt.xlabel(\"Tiempo Total del Proyecto (días)\")\n",
    "plt.ylabel(\"Densidad de Probabilidad\")\n",
    "plt.title(\"Histograma de Tiempo Total del Proyecto\")\n",
    "plt.grid(True)\n",
    "plt.show()\n",
    "\n"
   ]
  },
  {
   "cell_type": "markdown",
   "id": "2c8b053b",
   "metadata": {},
   "source": [
    "### Integración Monte Carlo tipo 1 - Problema 2"
   ]
  },
  {
   "cell_type": "markdown",
   "id": "4f5400d6",
   "metadata": {},
   "source": [
    "Dadas las funciones\n",
    "\n",
    "$$ f_1(x) = \\sin{(x)}e^{-\\frac{x}{10}} + 1$$\n",
    "\n",
    "$$ f_2(x) = 0.15x $$\n",
    "\n",
    "$$ x \\in [0, 4\\pi]$$"
   ]
  },
  {
   "cell_type": "markdown",
   "id": "c8fe1203",
   "metadata": {
    "colab_type": "text",
    "id": "fZdnlrZlD-IF"
   },
   "source": [
    "1. Escriba la función de integración Montecarlo de tipo 1, con argumentos de entrada $f$, $a$, $b$ y $N$. Donde $f$ es la función a integrar, $a$ y $b$ son los límites de integración y $N$ es el número de puntos utilizados para la integración. Y que regrese el valor de la integral."
   ]
  },
  {
   "cell_type": "code",
   "execution_count": 119,
   "id": "3ad96a0f",
   "metadata": {},
   "outputs": [
    {
     "name": "stdout",
     "output_type": "stream",
     "text": [
      "Resultado de la integral: 13.280457479358017\n"
     ]
    }
   ],
   "source": [
    "import numpy as np\n",
    "\n",
    "def integracion_montecarlo_tipo1(f, a, b, N):\n",
    "    # Generar N números aleatorios uniformemente distribuidos en el intervalo [a, b]\n",
    "    x = np.random.uniform(a, b, N)\n",
    "    \n",
    "    # Evaluar la función en los valores aleatorios generados\n",
    "    y = f(x)\n",
    "    \n",
    "    # Calcular la integral aproximada como el promedio de los valores de la función multiplicado por la longitud del intervalo\n",
    "    integral_aproximada = (b - a) * np.mean(y)\n",
    "    \n",
    "    return integral_aproximada\n",
    "\n",
    "# Ejemplo de uso:\n",
    "def f1(x):\n",
    "    return np.sin(x) * np.exp(-x/10) + 1\n",
    "\n",
    "a = 0\n",
    "b = 4 * np.pi\n",
    "N = 10000\n",
    "\n",
    "resultado = integracion_montecarlo_tipo1(f1, a, b, N)\n",
    "print(\"Resultado de la integral:\", resultado)\n"
   ]
  },
  {
   "cell_type": "code",
   "execution_count": null,
   "id": "25406d69",
   "metadata": {},
   "outputs": [],
   "source": [
    "def f1(x):\n",
    "    return np.e**(x**2)\n",
    "\n",
    "def f2(x):\n",
    "    return (1/np.log10(x))\n",
    "\n",
    "def f3(x):\n",
    "    return (np.sin(x)/x)\n",
    "\n",
    "N = np.logspace(1, 7, 7)\n",
    "a = 2\n",
    "b = 2.1\n",
    "\n",
    "tabla = pd.DataFrame(columns = [\"Aproximacion1\", \"Error1\",\"Aproximacion2\", \"Error2\", \"Aproximacion3\", \"Error3\" ], index = N)\n",
    "\n",
    "\n",
    "def montecarlo(f, N, a , b) :\n",
    "    u = np.random.uniform(a, b, N)\n",
    "    media = np.mean(f(u))\n",
    "    return media*(b-a)\n",
    "\n",
    "for i in N :\n",
    "    aproximacion = montecarlo(f1, int(i), a, b)\n",
    "    tabla.loc[i, \"Aproximacion1\"] = aproximacion\n",
    "    tabla.loc[i, \"Error1\"] = abs(6.73789 - aproximacion)\n",
    "\n",
    "for i in N :\n",
    "    aproximacion = montecarlo(f2, int(i), a, b)\n",
    "    tabla.loc[i, \"Aproximacion2\"] = aproximacion\n",
    "    tabla.loc[i, \"Error2\"] = abs(0.320934 - aproximacion)\n",
    "\n",
    "for i in N :\n",
    "    aproximacion = montecarlo(f3, int(i), a, b)\n",
    "    tabla.loc[i, \"Aproximacion3\"] = aproximacion\n",
    "    tabla.loc[i, \"Error3\"] = abs(0.0432857 - aproximacion)\n",
    "\n",
    "    \n",
    "tabla"
   ]
  },
  {
   "cell_type": "markdown",
   "id": "a7ca46b1",
   "metadata": {},
   "source": [
    "2. Defina las funciones dadas como funciones de Python, con argumento de entrada $x$."
   ]
  },
  {
   "cell_type": "code",
   "execution_count": null,
   "id": "bc641855",
   "metadata": {},
   "outputs": [],
   "source": []
  },
  {
   "cell_type": "markdown",
   "id": "e519d3f9",
   "metadata": {},
   "source": [
    "3. Grafique las funciones en una sola figura. Utiliza el comando `plt.fill_between` para rellenar el área a integrar."
   ]
  },
  {
   "cell_type": "code",
   "execution_count": null,
   "id": "ebeb6c6c",
   "metadata": {},
   "outputs": [],
   "source": []
  },
  {
   "cell_type": "markdown",
   "id": "fca88039",
   "metadata": {},
   "source": [
    "4. ¿Cuál es el área del espacio que se llenó después de `plt.fill_between`? Aproxima tu resultado con 1'000,000 puntos."
   ]
  },
  {
   "cell_type": "code",
   "execution_count": null,
   "id": "797accd7",
   "metadata": {},
   "outputs": [],
   "source": []
  },
  {
   "cell_type": "markdown",
   "id": "12b6a146",
   "metadata": {
    "colab_type": "text",
    "id": "recZkMzsMWbc"
   },
   "source": [
    "5. En un _DataFrame_ de _pandas_ escriba el valor de **las integrales ($f_1(x)$, $f_2(x)$, área total)** y el **error** para $N=10^4,\\, 10^5,\\, 10^6$."
   ]
  },
  {
   "cell_type": "markdown",
   "id": "b22401ea",
   "metadata": {},
   "source": []
  },
  {
   "cell_type": "markdown",
   "id": "ee0e9e1c",
   "metadata": {
    "colab_type": "text",
    "id": "IUn6WvoMGV7Z"
   },
   "source": [
    "---\n",
    "### Integración Monte Carlo tipo 2 \n",
    "Dada una superfice en el espacio $f(x,y)$, una curva de nivel, es el corte transversal donde se cumple $f(x,y)=v$, con $v$ tal que pertenece al dominio de $f$. \n",
    "\n"
   ]
  },
  {
   "cell_type": "markdown",
   "id": "ac72b0c6",
   "metadata": {},
   "source": [
    "**Función 1:** Encuentre el área de todas las curvas de nivel que cumplan $f(x,y)>v$, donde \n",
    "$$\n",
    "f(x,y)=-xy\\,e^{-x^2-y^2},\n",
    "$$\n",
    "y $v=0.05$"
   ]
  },
  {
   "cell_type": "markdown",
   "id": "b825a3f7",
   "metadata": {
    "colab_type": "text",
    "id": "IUn6WvoMGV7Z"
   },
   "source": [
    "**Función 2:** Encuentre el área que cumpla $f(x,y)>v$, donde \n",
    "$$\n",
    "f(x,y)=e^{-0.05(x^2+y^2)}\\sin(x^2+y^2),\n",
    "$$\n",
    "y $v=0.5$."
   ]
  },
  {
   "cell_type": "markdown",
   "id": "7949ae64",
   "metadata": {
    "colab_type": "text",
    "id": "aKvXQflPIweM"
   },
   "source": [
    "1. Escriba la función que discrimine los puntos que satisfacen la restricción $f(x,y)>v$, con argumentos de entrada $x$ y $y$ y que regrese Verdadero o Falso."
   ]
  },
  {
   "cell_type": "code",
   "execution_count": 117,
   "id": "dbe0f378",
   "metadata": {
    "colab": {},
    "colab_type": "code",
    "id": "lnOHGKL3JLlm"
   },
   "outputs": [
    {
     "data": {
      "text/plain": [
       "<function __main__.region(x, y)>"
      ]
     },
     "execution_count": 117,
     "metadata": {},
     "output_type": "execute_result"
    }
   ],
   "source": [
    "import math\n",
    "\n",
    "def region(x,y):\n",
    "    return -x*y*np.e(-x**2-y**2)>0.5\n",
    "region\n"
   ]
  },
  {
   "cell_type": "markdown",
   "id": "6a10cfd9",
   "metadata": {
    "colab_type": "text",
    "id": "vYHLYKC5JMor"
   },
   "source": [
    "2. Encuentre los límites de integración para $x$ y para $y$ que encierren el área deseada y grafique."
   ]
  },
  {
   "cell_type": "code",
   "execution_count": 118,
   "id": "39b95db0",
   "metadata": {
    "scrolled": true
   },
   "outputs": [
    {
     "ename": "TypeError",
     "evalue": "'float' object is not callable",
     "output_type": "error",
     "traceback": [
      "\u001b[1;31m---------------------------------------------------------------------------\u001b[0m",
      "\u001b[1;31mTypeError\u001b[0m                                 Traceback (most recent call last)",
      "Cell \u001b[1;32mIn[118], line 9\u001b[0m\n\u001b[0;32m      6\u001b[0m y\u001b[38;5;241m=\u001b[39mnp\u001b[38;5;241m.\u001b[39mlinspace(a2,b2,N)\n\u001b[0;32m      7\u001b[0m X,Y\u001b[38;5;241m=\u001b[39mnp\u001b[38;5;241m.\u001b[39mmeshgrid(x,y)\n\u001b[1;32m----> 9\u001b[0m plt\u001b[38;5;241m.\u001b[39mscatter(X,Y,c\u001b[38;5;241m=\u001b[39m\u001b[38;5;241m~\u001b[39mregion(X,Y),cmap\u001b[38;5;241m=\u001b[39m\u001b[38;5;124m'\u001b[39m\u001b[38;5;124mgray\u001b[39m\u001b[38;5;124m'\u001b[39m)\n\u001b[0;32m     10\u001b[0m plt\u001b[38;5;241m.\u001b[39mgrid()\n",
      "Cell \u001b[1;32mIn[117], line 4\u001b[0m, in \u001b[0;36mregion\u001b[1;34m(x, y)\u001b[0m\n\u001b[0;32m      3\u001b[0m \u001b[38;5;28;01mdef\u001b[39;00m \u001b[38;5;21mregion\u001b[39m(x,y):\n\u001b[1;32m----> 4\u001b[0m     \u001b[38;5;28;01mreturn\u001b[39;00m \u001b[38;5;241m-\u001b[39mx\u001b[38;5;241m*\u001b[39my\u001b[38;5;241m*\u001b[39mnp\u001b[38;5;241m.\u001b[39me(\u001b[38;5;241m-\u001b[39mx\u001b[38;5;241m*\u001b[39m\u001b[38;5;241m*\u001b[39m\u001b[38;5;241m2\u001b[39m\u001b[38;5;241m-\u001b[39my\u001b[38;5;241m*\u001b[39m\u001b[38;5;241m*\u001b[39m\u001b[38;5;241m2\u001b[39m)\u001b[38;5;241m>\u001b[39m\u001b[38;5;241m0.5\u001b[39m\n",
      "\u001b[1;31mTypeError\u001b[0m: 'float' object is not callable"
     ]
    }
   ],
   "source": [
    "N=200\n",
    "a1,b1 = -3,3\n",
    "a2,b2 = -3,3\n",
    "\n",
    "x=np.linspace(a1,b1,N)\n",
    "y=np.linspace(a2,b2,N)\n",
    "X,Y=np.meshgrid(x,y)\n",
    "\n",
    "plt.scatter(X,Y,c=~region(X,Y),cmap='gray')\n",
    "plt.grid()"
   ]
  },
  {
   "cell_type": "markdown",
   "id": "392d34c2",
   "metadata": {
    "colab_type": "text",
    "id": "SNMVh09zJrhu"
   },
   "source": [
    "3. Escriba la función para integrar con el método de Montecaralo de tipo 2 con argumentos de entrada $f$, $xmin$, $xmax$, $ymin$, $ymax$, y $N$. Donde $f$ es una función que define la región de integración; $xmin$, $xmax$, $ymin$ y $ymax$ definen los límites de integración y $N$ el número de puntos en $x$ y $y$ para usar en el método. Esta función debe regresar el valor de la integral."
   ]
  },
  {
   "cell_type": "code",
   "execution_count": 27,
   "id": "11d04ed5",
   "metadata": {
    "colab": {},
    "colab_type": "code",
    "id": "9lx_xP1nKwuH"
   },
   "outputs": [],
   "source": [
    "def montecarlo2(region,a1,b1,a2,b2,N):\n",
    "    ux=np.random.uniform(a1,b1,N)\n",
    "    uy=np.random.uniform(a2,b2,N)\n",
    "    B=region(ux,uy)\n",
    "    AR=(b1-a1)*(b2-a2)\n",
    "    return np.mean(B)*AR"
   ]
  },
  {
   "cell_type": "code",
   "execution_count": 28,
   "id": "42982408",
   "metadata": {},
   "outputs": [
    {
     "data": {
      "text/plain": [
       "10.920402000000001"
      ]
     },
     "execution_count": 28,
     "metadata": {},
     "output_type": "execute_result"
    }
   ],
   "source": [
    "montecarlo2(region, -3, 3, -3, 3, 10**7)"
   ]
  },
  {
   "cell_type": "markdown",
   "id": "ed339417",
   "metadata": {
    "colab_type": "text",
    "id": "recZkMzsMWbc"
   },
   "source": [
    "4. En un _DataFrame_ de _pandas_ escriba el valor de **las integrales** y la **estimación del error relativo** para $N=10^4,\\, 10^5,\\, 10^6$."
   ]
  },
  {
   "cell_type": "code",
   "execution_count": 29,
   "id": "e650bd74",
   "metadata": {
    "colab": {},
    "colab_type": "code",
    "id": "Yxiw2ilFNPn9"
   },
   "outputs": [
    {
     "data": {
      "text/plain": [
       "array([  10000,  100000, 1000000])"
      ]
     },
     "execution_count": 29,
     "metadata": {},
     "output_type": "execute_result"
    }
   ],
   "source": [
    "N=np.logspace(4,6,3).astype('int')\n",
    "N"
   ]
  },
  {
   "cell_type": "code",
   "execution_count": 30,
   "id": "bdbca3d3",
   "metadata": {},
   "outputs": [
    {
     "data": {
      "text/html": [
       "<div>\n",
       "<style scoped>\n",
       "    .dataframe tbody tr th:only-of-type {\n",
       "        vertical-align: middle;\n",
       "    }\n",
       "\n",
       "    .dataframe tbody tr th {\n",
       "        vertical-align: top;\n",
       "    }\n",
       "\n",
       "    .dataframe thead th {\n",
       "        text-align: right;\n",
       "    }\n",
       "</style>\n",
       "<table border=\"1\" class=\"dataframe\">\n",
       "  <thead>\n",
       "    <tr style=\"text-align: right;\">\n",
       "      <th></th>\n",
       "      <th>Aprox</th>\n",
       "      <th>Error</th>\n",
       "    </tr>\n",
       "  </thead>\n",
       "  <tbody>\n",
       "    <tr>\n",
       "      <th>10000</th>\n",
       "      <td>10.9512</td>\n",
       "      <td>0.004601</td>\n",
       "    </tr>\n",
       "    <tr>\n",
       "      <th>100000</th>\n",
       "      <td>10.97892</td>\n",
       "      <td>0.001456</td>\n",
       "    </tr>\n",
       "    <tr>\n",
       "      <th>1000000</th>\n",
       "      <td>10.91466</td>\n",
       "      <td>0.00046</td>\n",
       "    </tr>\n",
       "  </tbody>\n",
       "</table>\n",
       "</div>"
      ],
      "text/plain": [
       "            Aprox     Error\n",
       "10000     10.9512  0.004601\n",
       "100000   10.97892  0.001456\n",
       "1000000  10.91466   0.00046"
      ]
     },
     "execution_count": 30,
     "metadata": {},
     "output_type": "execute_result"
    }
   ],
   "source": [
    "import pandas as pd\n",
    "import numpy as np\n",
    "N=np.logspace(4,6,3).astype('int')\n",
    "tabla=pd.DataFrame(index=N,columns=['Aprox','Error'])\n",
    "AR=(b1-a1)*(b2-a2)\n",
    "for n in N:\n",
    "    tabla.loc[n,'Aprox']=montecarlo2(region,a1,b1,a2,b2,n)\n",
    "    th=tabla.loc[n,'Aprox']/AR\n",
    "    tabla.loc[n,'Error']=np.sqrt(th*(1-th)/n)\n",
    "tabla"
   ]
  },
  {
   "cell_type": "markdown",
   "id": "114a4900",
   "metadata": {
    "colab_type": "text",
    "id": "GtE9MajVSmjL"
   },
   "source": [
    "---\n",
    "### Generación de fractales\n",
    "\n",
    "Los fractales de tipo Barnsley se generan con transformaciones afines con cierta probabilidad.\n",
    "\n",
    "Genere un cuadro perturbado tridimensional con la ecuación:\n",
    "$$\n",
    "\\begin{bmatrix}x_{k+1}\\\\y_{k+1}\\\\z_{k+1}\n",
    "\\end{bmatrix}=A_i\\begin{bmatrix}x_k\\\\y_k\\\\z_k\\end{bmatrix}+b_i\n",
    "$$\n",
    "Y sus respectivas matrices:"
   ]
  },
  {
   "cell_type": "markdown",
   "id": "f7be62f8",
   "metadata": {},
   "source": [
    "**Fractal 1:**"
   ]
  },
  {
   "cell_type": "code",
   "execution_count": null,
   "id": "b098c88b",
   "metadata": {},
   "outputs": [],
   "source": [
    "import numpy as np\n",
    "\n",
    "A0 = np.array([[0.5,0.1853,0],[0.1667,0.3639,-0.0962],[0,0.1555,0.5]])\n",
    "b0 = np.array([-1.0462,-0.8914,1.2468]).reshape(-1, 1)\n",
    "\n",
    "A1 = np.array([[0.5,0.042,0],[-0.1667,0.3639,-0.0962],[0,-0.2382,0.5]])\n",
    "b1 = np.array([1.6029,-0.8914,0.2826]).reshape(-1, 1)\n",
    "\n",
    "A2 = np.array([[0.5,-0.2273,0],[0,-0.3639,0.1925],[0,0.0827,0.5]])\n",
    "b2 = np.array([-0.5567,-0.8914,-1.5294]).reshape(-1, 1)\n",
    "\n",
    "A3 = np.array([[0.383,0,0.3214],[0,0.5,0],[-0.3214,0,0.383]])\n",
    "b3 = np.array([0,1.2247,0]).reshape(-1, 1)"
   ]
  },
  {
   "cell_type": "markdown",
   "id": "1bf3e0db",
   "metadata": {},
   "source": [
    "cuya probabilidad es la misma para cada $i=\\{0,1,2,3\\}$. Use la función scatter de una proyección 3D sobre los ejes:\n",
    "```\n",
    "import matplotlib.pyplot as plt\n",
    "from mpl_toolkits.mplot3d import Axes3D\n",
    "\n",
    "fig=plt.figure()\n",
    "ax=fig.gca(projection='3d')\n",
    "ax.scatter(x,y,z)\n",
    "```"
   ]
  },
  {
   "cell_type": "code",
   "execution_count": 13,
   "id": "1cae2934",
   "metadata": {},
   "outputs": [],
   "source": [
    "import pandas as pd\n",
    "import numpy as np\n",
    "import random "
   ]
  },
  {
   "cell_type": "code",
   "execution_count": 14,
   "id": "6e88255c",
   "metadata": {},
   "outputs": [
    {
     "ename": "NameError",
     "evalue": "name 'df' is not defined",
     "output_type": "error",
     "traceback": [
      "\u001b[1;31m---------------------------------------------------------------------------\u001b[0m",
      "\u001b[1;31mNameError\u001b[0m                                 Traceback (most recent call last)",
      "Cell \u001b[1;32mIn[14], line 18\u001b[0m\n\u001b[0;32m     16\u001b[0m y \u001b[38;5;241m=\u001b[39m [\u001b[38;5;241m0\u001b[39m]\n\u001b[0;32m     17\u001b[0m \u001b[38;5;28;01mfor\u001b[39;00m k \u001b[38;5;129;01min\u001b[39;00m \u001b[38;5;28mrange\u001b[39m(\u001b[38;5;241m10000\u001b[39m):\n\u001b[1;32m---> 18\u001b[0m     i \u001b[38;5;241m=\u001b[39m random\u001b[38;5;241m.\u001b[39mchoices([\u001b[38;5;241m0\u001b[39m,\u001b[38;5;241m1\u001b[39m,\u001b[38;5;241m2\u001b[39m,\u001b[38;5;241m3\u001b[39m], weights\u001b[38;5;241m=\u001b[39mdf[\u001b[38;5;124m\"\u001b[39m\u001b[38;5;124m$p_i$\u001b[39m\u001b[38;5;124m\"\u001b[39m])\n\u001b[0;32m     20\u001b[0m     a \u001b[38;5;241m=\u001b[39m \u001b[38;5;28mfloat\u001b[39m(df[\u001b[38;5;124m\"\u001b[39m\u001b[38;5;124m$a_i$\u001b[39m\u001b[38;5;124m\"\u001b[39m][i])\n\u001b[0;32m     21\u001b[0m     b \u001b[38;5;241m=\u001b[39m \u001b[38;5;28mfloat\u001b[39m(df[\u001b[38;5;124m\"\u001b[39m\u001b[38;5;124m$b_i$\u001b[39m\u001b[38;5;124m\"\u001b[39m][i])\n",
      "\u001b[1;31mNameError\u001b[0m: name 'df' is not defined"
     ]
    }
   ],
   "source": [
    "i = np.arange(4)\n",
    "\n",
    "A0 = np.array([[0.5,0.1853,0],[0.1667,0.3639,-0.0962],[0,0.1555,0.5]])\n",
    "b0 = np.array([-1.0462,-0.8914,1.2468]).reshape(-1, 1)\n",
    "\n",
    "A1 = np.array([[0.5,0.042,0],[-0.1667,0.3639,-0.0962],[0,-0.2382,0.5]])\n",
    "b1 = np.array([1.6029,-0.8914,0.2826]).reshape(-1, 1)\n",
    "\n",
    "A2 = np.array([[0.5,-0.2273,0],[0,-0.3639,0.1925],[0,0.0827,0.5]])\n",
    "b2 = np.array([-0.5567,-0.8914,-1.5294]).reshape(-1, 1)\n",
    "\n",
    "A3 = np.array([[0.383,0,0.3214],[0,0.5,0],[-0.3214,0,0.383]])\n",
    "b3 = np.array([0,1.2247,0]).reshape(-1, 1)\n",
    "\n",
    "x = [0]\n",
    "y = [0]\n",
    "for k in range(10000):\n",
    "    i = random.choices([0,1,2,3], weights=df[\"$p_i$\"])\n",
    "    \n",
    "    a = float(df[\"$a_i$\"][i])\n",
    "    b = float(df[\"$b_i$\"][i])\n",
    "    c = float(df[\"$c_i$\"][i])\n",
    "    d = float(df[\"$d_i$\"][i])\n",
    "    e = float(df[\"$e_i$\"][i])\n",
    "    f = float(df[\"$f_i$\"][i])\n",
    "    g = float(df[\"$p_i$\"][i])\n",
    "    \n",
    "    xkm1=a*x[-1]+b*y[-1]+e\n",
    "    ykm1=c*x[-1]+d*y[-1]+f\n",
    "    \n",
    "    x.append(xkm1)\n",
    "    y.append(ykm1)"
   ]
  },
  {
   "cell_type": "code",
   "execution_count": null,
   "id": "d98cc548",
   "metadata": {},
   "outputs": [],
   "source": []
  },
  {
   "cell_type": "code",
   "execution_count": null,
   "id": "e19be509",
   "metadata": {},
   "outputs": [],
   "source": []
  },
  {
   "cell_type": "code",
   "execution_count": null,
   "id": "de19fcc6",
   "metadata": {},
   "outputs": [],
   "source": []
  },
  {
   "cell_type": "markdown",
   "id": "57442706",
   "metadata": {
    "colab_type": "text",
    "id": "RfYMRwkTVNue"
   },
   "source": [
    "---\n",
    "### Probabilidad Precio-Umbral\n",
    "Se tiene la siguiente lista de empresas:\n",
    "- Spotify\n",
    "- Mercado Libre\n",
    "- Microsoft\n",
    "- Walmart\n",
    "- Google\n",
    "- Tesla\n",
    "- Netflix\n",
    "- Amazon\n",
    "- Oracle\n",
    "- Intel\n",
    "\n",
    "Suponga que desea invertir en dos de ellas. Evalúe la probabilidad de obtener un retorno del 10% en tres meses a partir del 30 de septiembre del presente año."
   ]
  },
  {
   "cell_type": "markdown",
   "id": "2e5d95c6",
   "metadata": {},
   "source": [
    "1. Describa una función para obtener los precios de cierre ajustados para dividendos y divisiones desde *YAHOO finance*, usando el paquete de *yfinance*, donde los argumentos de entrada sean los nombres de las empresas, la fecha de inicio, y la fecha de fin a los cuales se obtendrán los datos."
   ]
  },
  {
   "cell_type": "code",
   "execution_count": 15,
   "id": "b0592a44",
   "metadata": {},
   "outputs": [],
   "source": [
    "import yfinance as yf"
   ]
  },
  {
   "cell_type": "markdown",
   "id": "a11fc154",
   "metadata": {},
   "source": [
    "2. Obtenga los precios de cierre ajustados desde el 30 de septiembre de 2021 al 29 de septiembre de 2023."
   ]
  },
  {
   "cell_type": "code",
   "execution_count": 53,
   "id": "72d16050",
   "metadata": {},
   "outputs": [
    {
     "name": "stdout",
     "output_type": "stream",
     "text": [
      "[*********************100%%**********************]  2 of 2 completed\n"
     ]
    }
   ],
   "source": [
    "data = yf.download([\"MELI\", \"GOOGL\"], \"2021-09-30\", \"2023-09-29\")"
   ]
  },
  {
   "cell_type": "code",
   "execution_count": 54,
   "id": "0950fa57",
   "metadata": {},
   "outputs": [],
   "source": [
    "data = data[\"Adj Close\"]"
   ]
  },
  {
   "cell_type": "code",
   "execution_count": 55,
   "id": "74ea4f21",
   "metadata": {},
   "outputs": [
    {
     "data": {
      "text/html": [
       "<div>\n",
       "<style scoped>\n",
       "    .dataframe tbody tr th:only-of-type {\n",
       "        vertical-align: middle;\n",
       "    }\n",
       "\n",
       "    .dataframe tbody tr th {\n",
       "        vertical-align: top;\n",
       "    }\n",
       "\n",
       "    .dataframe thead th {\n",
       "        text-align: right;\n",
       "    }\n",
       "</style>\n",
       "<table border=\"1\" class=\"dataframe\">\n",
       "  <thead>\n",
       "    <tr style=\"text-align: right;\">\n",
       "      <th></th>\n",
       "      <th>GOOGL</th>\n",
       "      <th>MELI</th>\n",
       "    </tr>\n",
       "    <tr>\n",
       "      <th>Date</th>\n",
       "      <th></th>\n",
       "      <th></th>\n",
       "    </tr>\n",
       "  </thead>\n",
       "  <tbody>\n",
       "    <tr>\n",
       "      <th>2021-09-30</th>\n",
       "      <td>NaN</td>\n",
       "      <td>NaN</td>\n",
       "    </tr>\n",
       "    <tr>\n",
       "      <th>2021-10-01</th>\n",
       "      <td>133.675995</td>\n",
       "      <td>1679.400024</td>\n",
       "    </tr>\n",
       "    <tr>\n",
       "      <th>2021-10-04</th>\n",
       "      <td>136.542999</td>\n",
       "      <td>1667.599976</td>\n",
       "    </tr>\n",
       "    <tr>\n",
       "      <th>2021-10-05</th>\n",
       "      <td>133.659500</td>\n",
       "      <td>1592.750000</td>\n",
       "    </tr>\n",
       "    <tr>\n",
       "      <th>2021-10-06</th>\n",
       "      <td>136.022995</td>\n",
       "      <td>1585.439941</td>\n",
       "    </tr>\n",
       "    <tr>\n",
       "      <th>...</th>\n",
       "      <td>...</td>\n",
       "      <td>...</td>\n",
       "    </tr>\n",
       "    <tr>\n",
       "      <th>2023-09-22</th>\n",
       "      <td>130.440002</td>\n",
       "      <td>1293.280029</td>\n",
       "    </tr>\n",
       "    <tr>\n",
       "      <th>2023-09-25</th>\n",
       "      <td>130.250000</td>\n",
       "      <td>1276.959961</td>\n",
       "    </tr>\n",
       "    <tr>\n",
       "      <th>2023-09-26</th>\n",
       "      <td>131.110001</td>\n",
       "      <td>1290.530029</td>\n",
       "    </tr>\n",
       "    <tr>\n",
       "      <th>2023-09-27</th>\n",
       "      <td>128.570007</td>\n",
       "      <td>1268.619995</td>\n",
       "    </tr>\n",
       "    <tr>\n",
       "      <th>2023-09-28</th>\n",
       "      <td>130.539993</td>\n",
       "      <td>1256.520020</td>\n",
       "    </tr>\n",
       "  </tbody>\n",
       "</table>\n",
       "<p>502 rows × 2 columns</p>\n",
       "</div>"
      ],
      "text/plain": [
       "                 GOOGL         MELI\n",
       "Date                               \n",
       "2021-09-30         NaN          NaN\n",
       "2021-10-01  133.675995  1679.400024\n",
       "2021-10-04  136.542999  1667.599976\n",
       "2021-10-05  133.659500  1592.750000\n",
       "2021-10-06  136.022995  1585.439941\n",
       "...                ...          ...\n",
       "2023-09-22  130.440002  1293.280029\n",
       "2023-09-25  130.250000  1276.959961\n",
       "2023-09-26  131.110001  1290.530029\n",
       "2023-09-27  128.570007  1268.619995\n",
       "2023-09-28  130.539993  1256.520020\n",
       "\n",
       "[502 rows x 2 columns]"
      ]
     },
     "execution_count": 55,
     "metadata": {},
     "output_type": "execute_result"
    }
   ],
   "source": [
    "data.shift()"
   ]
  },
  {
   "cell_type": "code",
   "execution_count": null,
   "id": "c6ede724",
   "metadata": {},
   "outputs": [],
   "source": []
  },
  {
   "cell_type": "markdown",
   "id": "018662ae",
   "metadata": {},
   "source": [
    "3. Calcule el rendimiento **simple** para ambas empresas."
   ]
  },
  {
   "cell_type": "code",
   "execution_count": 56,
   "id": "cb83e2dc",
   "metadata": {},
   "outputs": [],
   "source": [
    "R = (data-data.shift())/data.shift()"
   ]
  },
  {
   "cell_type": "code",
   "execution_count": 58,
   "id": "23de6663",
   "metadata": {},
   "outputs": [
    {
     "data": {
      "text/plain": [
       "<Axes: xlabel='Date'>"
      ]
     },
     "execution_count": 58,
     "metadata": {},
     "output_type": "execute_result"
    },
    {
     "data": {
      "image/png": "[encoded data removed]",
      "text/plain": [
       "<Figure size 640x480 with 1 Axes>"
      ]
     },
     "metadata": {},
     "output_type": "display_data"
    }
   ],
   "source": [
    "R.plot()"
   ]
  },
  {
   "cell_type": "code",
   "execution_count": 60,
   "id": "3e71f5cb",
   "metadata": {
    "scrolled": true
   },
   "outputs": [
    {
     "data": {
      "text/plain": [
       "<Axes: ylabel='Frequency'>"
      ]
     },
     "execution_count": 60,
     "metadata": {},
     "output_type": "execute_result"
    },
    {
     "data": {
      "image/png": "[encoded data removed]",
      "text/plain": [
       "<Figure size 640x480 with 1 Axes>"
      ]
     },
     "metadata": {},
     "output_type": "display_data"
    }
   ],
   "source": [
    "R.plot.hist()"
   ]
  },
  {
   "cell_type": "code",
   "execution_count": 61,
   "id": "daf50b9a",
   "metadata": {},
   "outputs": [
    {
     "data": {
      "text/html": [
       "<div>\n",
       "<style scoped>\n",
       "    .dataframe tbody tr th:only-of-type {\n",
       "        vertical-align: middle;\n",
       "    }\n",
       "\n",
       "    .dataframe tbody tr th {\n",
       "        vertical-align: top;\n",
       "    }\n",
       "\n",
       "    .dataframe thead th {\n",
       "        text-align: right;\n",
       "    }\n",
       "</style>\n",
       "<table border=\"1\" class=\"dataframe\">\n",
       "  <thead>\n",
       "    <tr style=\"text-align: right;\">\n",
       "      <th></th>\n",
       "      <th>GOOGL</th>\n",
       "      <th>MELI</th>\n",
       "    </tr>\n",
       "  </thead>\n",
       "  <tbody>\n",
       "    <tr>\n",
       "      <th>count</th>\n",
       "      <td>501.000000</td>\n",
       "      <td>501.000000</td>\n",
       "    </tr>\n",
       "    <tr>\n",
       "      <th>mean</th>\n",
       "      <td>0.000213</td>\n",
       "      <td>0.000241</td>\n",
       "    </tr>\n",
       "    <tr>\n",
       "      <th>std</th>\n",
       "      <td>0.021638</td>\n",
       "      <td>0.039824</td>\n",
       "    </tr>\n",
       "    <tr>\n",
       "      <th>min</th>\n",
       "      <td>-0.091405</td>\n",
       "      <td>-0.168789</td>\n",
       "    </tr>\n",
       "    <tr>\n",
       "      <th>25%</th>\n",
       "      <td>-0.013388</td>\n",
       "      <td>-0.024332</td>\n",
       "    </tr>\n",
       "    <tr>\n",
       "      <th>50%</th>\n",
       "      <td>-0.000084</td>\n",
       "      <td>0.001462</td>\n",
       "    </tr>\n",
       "    <tr>\n",
       "      <th>75%</th>\n",
       "      <td>0.012581</td>\n",
       "      <td>0.023514</td>\n",
       "    </tr>\n",
       "    <tr>\n",
       "      <th>max</th>\n",
       "      <td>0.076557</td>\n",
       "      <td>0.161595</td>\n",
       "    </tr>\n",
       "  </tbody>\n",
       "</table>\n",
       "</div>"
      ],
      "text/plain": [
       "            GOOGL        MELI\n",
       "count  501.000000  501.000000\n",
       "mean     0.000213    0.000241\n",
       "std      0.021638    0.039824\n",
       "min     -0.091405   -0.168789\n",
       "25%     -0.013388   -0.024332\n",
       "50%     -0.000084    0.001462\n",
       "75%      0.012581    0.023514\n",
       "max      0.076557    0.161595"
      ]
     },
     "execution_count": 61,
     "metadata": {},
     "output_type": "execute_result"
    }
   ],
   "source": [
    "R.describe()"
   ]
  },
  {
   "cell_type": "code",
   "execution_count": 74,
   "id": "97fbd7a8",
   "metadata": {},
   "outputs": [
    {
     "data": {
      "text/plain": [
       "(GOOGL    0.000213\n",
       " MELI     0.000241\n",
       " dtype: float64,\n",
       " GOOGL    0.021638\n",
       " MELI     0.039824\n",
       " dtype: float64)"
      ]
     },
     "execution_count": 74,
     "metadata": {},
     "output_type": "execute_result"
    }
   ],
   "source": [
    "R = data.pct_change().dropna()\n",
    "R.head()\n",
    "m=R.mean()\n",
    "s=R.std()\n",
    "m,s"
   ]
  },
  {
   "cell_type": "markdown",
   "id": "62abc4cf",
   "metadata": {},
   "source": [
    "4. Escriba una función que, dando como argumentos:\n",
    "* un vector de valores\n",
    "* la fecha de inicio,\n",
    "* **la fecha del fin de simulación** (**NO el número de días**) y\n",
    "* número de escenarios a simular;\n",
    "\n",
    "calcula la media, la desviación estándar, y regrese en un _DataFrame_ de _pandas_ datos simulados de una distribución normal caracterizada cuyo índice sea el rango de fechas dadas como argumentos."
   ]
  },
  {
   "cell_type": "code",
   "execution_count": 75,
   "id": "bbcb1cb8",
   "metadata": {},
   "outputs": [],
   "source": [
    "def simR(m,s,start,end,N):\n",
    "    date=pd.date_range(start,end)\n",
    "    dias=len(date)\n",
    "    datos=np.random.normal(m,s,(dias,N))\n",
    "    return pd.DataFrame(datos,index=date)"
   ]
  },
  {
   "cell_type": "code",
   "execution_count": 76,
   "id": "a3e5d366",
   "metadata": {
    "scrolled": true
   },
   "outputs": [
    {
     "data": {
      "text/html": [
       "<div>\n",
       "<style scoped>\n",
       "    .dataframe tbody tr th:only-of-type {\n",
       "        vertical-align: middle;\n",
       "    }\n",
       "\n",
       "    .dataframe tbody tr th {\n",
       "        vertical-align: top;\n",
       "    }\n",
       "\n",
       "    .dataframe thead th {\n",
       "        text-align: right;\n",
       "    }\n",
       "</style>\n",
       "<table border=\"1\" class=\"dataframe\">\n",
       "  <thead>\n",
       "    <tr style=\"text-align: right;\">\n",
       "      <th></th>\n",
       "      <th>GOOGL</th>\n",
       "      <th>MELI</th>\n",
       "    </tr>\n",
       "  </thead>\n",
       "  <tbody>\n",
       "    <tr>\n",
       "      <th>count</th>\n",
       "      <td>502.000000</td>\n",
       "      <td>502.000000</td>\n",
       "    </tr>\n",
       "    <tr>\n",
       "      <th>mean</th>\n",
       "      <td>118.046862</td>\n",
       "      <td>1098.720300</td>\n",
       "    </tr>\n",
       "    <tr>\n",
       "      <th>std</th>\n",
       "      <td>17.811159</td>\n",
       "      <td>230.502000</td>\n",
       "    </tr>\n",
       "    <tr>\n",
       "      <th>min</th>\n",
       "      <td>83.430000</td>\n",
       "      <td>612.700012</td>\n",
       "    </tr>\n",
       "    <tr>\n",
       "      <th>25%</th>\n",
       "      <td>102.902502</td>\n",
       "      <td>898.524994</td>\n",
       "    </tr>\n",
       "    <tr>\n",
       "      <th>50%</th>\n",
       "      <td>117.566250</td>\n",
       "      <td>1131.950012</td>\n",
       "    </tr>\n",
       "    <tr>\n",
       "      <th>75%</th>\n",
       "      <td>133.671871</td>\n",
       "      <td>1247.897522</td>\n",
       "    </tr>\n",
       "    <tr>\n",
       "      <th>max</th>\n",
       "      <td>149.838501</td>\n",
       "      <td>1709.979980</td>\n",
       "    </tr>\n",
       "  </tbody>\n",
       "</table>\n",
       "</div>"
      ],
      "text/plain": [
       "            GOOGL         MELI\n",
       "count  502.000000   502.000000\n",
       "mean   118.046862  1098.720300\n",
       "std     17.811159   230.502000\n",
       "min     83.430000   612.700012\n",
       "25%    102.902502   898.524994\n",
       "50%    117.566250  1131.950012\n",
       "75%    133.671871  1247.897522\n",
       "max    149.838501  1709.979980"
      ]
     },
     "execution_count": 76,
     "metadata": {},
     "output_type": "execute_result"
    }
   ],
   "source": [
    "data.describe()"
   ]
  },
  {
   "cell_type": "code",
   "execution_count": null,
   "id": "c8c01855",
   "metadata": {},
   "outputs": [],
   "source": []
  },
  {
   "cell_type": "markdown",
   "id": "7a1e5e10",
   "metadata": {},
   "source": [
    "5. Calcule la media y desviación estandar de los rendimientos y simule 100000 escenarios de rendimientos desde el 31 de marzo de 2023 al 31 de julio de 2023."
   ]
  },
  {
   "cell_type": "code",
   "execution_count": 78,
   "id": "7fa6b4d7",
   "metadata": {},
   "outputs": [],
   "source": [
    "R_GOOGL=simR(m['GOOGL'],s['GOOGL'],'2023-10-01','2023-12-31',100000)\n",
    "R_MELI=simR(m['MELI'],s['MELI'],'2023-10-01','2023-12-31',100000)"
   ]
  },
  {
   "cell_type": "code",
   "execution_count": 80,
   "id": "91df235c",
   "metadata": {},
   "outputs": [
    {
     "data": {
      "text/html": [
       "<div>\n",
       "<style scoped>\n",
       "    .dataframe tbody tr th:only-of-type {\n",
       "        vertical-align: middle;\n",
       "    }\n",
       "\n",
       "    .dataframe tbody tr th {\n",
       "        vertical-align: top;\n",
       "    }\n",
       "\n",
       "    .dataframe thead th {\n",
       "        text-align: right;\n",
       "    }\n",
       "</style>\n",
       "<table border=\"1\" class=\"dataframe\">\n",
       "  <thead>\n",
       "    <tr style=\"text-align: right;\">\n",
       "      <th></th>\n",
       "      <th>0</th>\n",
       "      <th>1</th>\n",
       "      <th>2</th>\n",
       "      <th>3</th>\n",
       "      <th>4</th>\n",
       "      <th>5</th>\n",
       "      <th>6</th>\n",
       "      <th>7</th>\n",
       "      <th>8</th>\n",
       "      <th>9</th>\n",
       "      <th>...</th>\n",
       "      <th>99990</th>\n",
       "      <th>99991</th>\n",
       "      <th>99992</th>\n",
       "      <th>99993</th>\n",
       "      <th>99994</th>\n",
       "      <th>99995</th>\n",
       "      <th>99996</th>\n",
       "      <th>99997</th>\n",
       "      <th>99998</th>\n",
       "      <th>99999</th>\n",
       "    </tr>\n",
       "  </thead>\n",
       "  <tbody>\n",
       "    <tr>\n",
       "      <th>2023-10-01</th>\n",
       "      <td>0.023142</td>\n",
       "      <td>0.042029</td>\n",
       "      <td>0.009491</td>\n",
       "      <td>-0.003900</td>\n",
       "      <td>0.035015</td>\n",
       "      <td>-0.000455</td>\n",
       "      <td>0.015704</td>\n",
       "      <td>-0.021216</td>\n",
       "      <td>0.007092</td>\n",
       "      <td>0.018833</td>\n",
       "      <td>...</td>\n",
       "      <td>-0.012432</td>\n",
       "      <td>0.007529</td>\n",
       "      <td>-0.023560</td>\n",
       "      <td>-0.029068</td>\n",
       "      <td>0.015540</td>\n",
       "      <td>0.031908</td>\n",
       "      <td>-0.018170</td>\n",
       "      <td>0.006755</td>\n",
       "      <td>0.021517</td>\n",
       "      <td>0.017423</td>\n",
       "    </tr>\n",
       "    <tr>\n",
       "      <th>2023-10-02</th>\n",
       "      <td>0.074907</td>\n",
       "      <td>0.061525</td>\n",
       "      <td>-0.027321</td>\n",
       "      <td>0.007652</td>\n",
       "      <td>0.025986</td>\n",
       "      <td>0.054877</td>\n",
       "      <td>-0.005514</td>\n",
       "      <td>-0.016596</td>\n",
       "      <td>-0.017244</td>\n",
       "      <td>0.055726</td>\n",
       "      <td>...</td>\n",
       "      <td>-0.016702</td>\n",
       "      <td>-0.007839</td>\n",
       "      <td>0.014031</td>\n",
       "      <td>-0.006910</td>\n",
       "      <td>-0.015363</td>\n",
       "      <td>-0.012458</td>\n",
       "      <td>-0.046016</td>\n",
       "      <td>-0.007629</td>\n",
       "      <td>-0.024673</td>\n",
       "      <td>0.008386</td>\n",
       "    </tr>\n",
       "    <tr>\n",
       "      <th>2023-10-03</th>\n",
       "      <td>-0.026769</td>\n",
       "      <td>-0.009359</td>\n",
       "      <td>0.014375</td>\n",
       "      <td>-0.005246</td>\n",
       "      <td>-0.026637</td>\n",
       "      <td>0.032327</td>\n",
       "      <td>-0.022351</td>\n",
       "      <td>-0.006666</td>\n",
       "      <td>-0.033094</td>\n",
       "      <td>-0.009316</td>\n",
       "      <td>...</td>\n",
       "      <td>-0.005178</td>\n",
       "      <td>-0.004921</td>\n",
       "      <td>0.004434</td>\n",
       "      <td>0.011168</td>\n",
       "      <td>-0.003947</td>\n",
       "      <td>-0.005477</td>\n",
       "      <td>0.020384</td>\n",
       "      <td>0.020103</td>\n",
       "      <td>-0.024944</td>\n",
       "      <td>-0.021702</td>\n",
       "    </tr>\n",
       "  </tbody>\n",
       "</table>\n",
       "<p>3 rows × 100000 columns</p>\n",
       "</div>"
      ],
      "text/plain": [
       "               0         1         2         3         4         5      \\\n",
       "2023-10-01  0.023142  0.042029  0.009491 -0.003900  0.035015 -0.000455   \n",
       "2023-10-02  0.074907  0.061525 -0.027321  0.007652  0.025986  0.054877   \n",
       "2023-10-03 -0.026769 -0.009359  0.014375 -0.005246 -0.026637  0.032327   \n",
       "\n",
       "               6         7         8         9      ...     99990     99991  \\\n",
       "2023-10-01  0.015704 -0.021216  0.007092  0.018833  ... -0.012432  0.007529   \n",
       "2023-10-02 -0.005514 -0.016596 -0.017244  0.055726  ... -0.016702 -0.007839   \n",
       "2023-10-03 -0.022351 -0.006666 -0.033094 -0.009316  ... -0.005178 -0.004921   \n",
       "\n",
       "               99992     99993     99994     99995     99996     99997  \\\n",
       "2023-10-01 -0.023560 -0.029068  0.015540  0.031908 -0.018170  0.006755   \n",
       "2023-10-02  0.014031 -0.006910 -0.015363 -0.012458 -0.046016 -0.007629   \n",
       "2023-10-03  0.004434  0.011168 -0.003947 -0.005477  0.020384  0.020103   \n",
       "\n",
       "               99998     99999  \n",
       "2023-10-01  0.021517  0.017423  \n",
       "2023-10-02 -0.024673  0.008386  \n",
       "2023-10-03 -0.024944 -0.021702  \n",
       "\n",
       "[3 rows x 100000 columns]"
      ]
     },
     "execution_count": 80,
     "metadata": {},
     "output_type": "execute_result"
    }
   ],
   "source": [
    "R_GOOGL.head(3)"
   ]
  },
  {
   "cell_type": "code",
   "execution_count": 81,
   "id": "978b11c7",
   "metadata": {},
   "outputs": [
    {
     "data": {
      "text/html": [
       "<div>\n",
       "<style scoped>\n",
       "    .dataframe tbody tr th:only-of-type {\n",
       "        vertical-align: middle;\n",
       "    }\n",
       "\n",
       "    .dataframe tbody tr th {\n",
       "        vertical-align: top;\n",
       "    }\n",
       "\n",
       "    .dataframe thead th {\n",
       "        text-align: right;\n",
       "    }\n",
       "</style>\n",
       "<table border=\"1\" class=\"dataframe\">\n",
       "  <thead>\n",
       "    <tr style=\"text-align: right;\">\n",
       "      <th></th>\n",
       "      <th>0</th>\n",
       "      <th>1</th>\n",
       "      <th>2</th>\n",
       "      <th>3</th>\n",
       "      <th>4</th>\n",
       "      <th>5</th>\n",
       "      <th>6</th>\n",
       "      <th>7</th>\n",
       "      <th>8</th>\n",
       "      <th>9</th>\n",
       "      <th>...</th>\n",
       "      <th>99990</th>\n",
       "      <th>99991</th>\n",
       "      <th>99992</th>\n",
       "      <th>99993</th>\n",
       "      <th>99994</th>\n",
       "      <th>99995</th>\n",
       "      <th>99996</th>\n",
       "      <th>99997</th>\n",
       "      <th>99998</th>\n",
       "      <th>99999</th>\n",
       "    </tr>\n",
       "  </thead>\n",
       "  <tbody>\n",
       "    <tr>\n",
       "      <th>2023-10-01</th>\n",
       "      <td>0.069941</td>\n",
       "      <td>0.039499</td>\n",
       "      <td>-0.007102</td>\n",
       "      <td>0.045147</td>\n",
       "      <td>0.038490</td>\n",
       "      <td>0.021509</td>\n",
       "      <td>0.030123</td>\n",
       "      <td>-0.041006</td>\n",
       "      <td>-0.049728</td>\n",
       "      <td>-0.057288</td>\n",
       "      <td>...</td>\n",
       "      <td>-0.047371</td>\n",
       "      <td>0.015140</td>\n",
       "      <td>0.014721</td>\n",
       "      <td>-0.085442</td>\n",
       "      <td>-0.093796</td>\n",
       "      <td>-0.056609</td>\n",
       "      <td>-0.015257</td>\n",
       "      <td>0.021389</td>\n",
       "      <td>-0.031531</td>\n",
       "      <td>-0.010691</td>\n",
       "    </tr>\n",
       "    <tr>\n",
       "      <th>2023-10-02</th>\n",
       "      <td>-0.030607</td>\n",
       "      <td>0.022605</td>\n",
       "      <td>0.017740</td>\n",
       "      <td>-0.016476</td>\n",
       "      <td>0.044717</td>\n",
       "      <td>0.013081</td>\n",
       "      <td>-0.002024</td>\n",
       "      <td>0.035267</td>\n",
       "      <td>-0.044840</td>\n",
       "      <td>-0.034304</td>\n",
       "      <td>...</td>\n",
       "      <td>-0.002240</td>\n",
       "      <td>0.058445</td>\n",
       "      <td>0.045519</td>\n",
       "      <td>-0.026581</td>\n",
       "      <td>-0.013151</td>\n",
       "      <td>0.015595</td>\n",
       "      <td>-0.083514</td>\n",
       "      <td>-0.024934</td>\n",
       "      <td>-0.018408</td>\n",
       "      <td>0.072777</td>\n",
       "    </tr>\n",
       "    <tr>\n",
       "      <th>2023-10-03</th>\n",
       "      <td>-0.014206</td>\n",
       "      <td>-0.039572</td>\n",
       "      <td>0.044526</td>\n",
       "      <td>-0.007405</td>\n",
       "      <td>0.000737</td>\n",
       "      <td>-0.002065</td>\n",
       "      <td>-0.001999</td>\n",
       "      <td>0.016839</td>\n",
       "      <td>-0.050116</td>\n",
       "      <td>0.004837</td>\n",
       "      <td>...</td>\n",
       "      <td>-0.031653</td>\n",
       "      <td>-0.023002</td>\n",
       "      <td>0.034527</td>\n",
       "      <td>-0.032238</td>\n",
       "      <td>0.026444</td>\n",
       "      <td>-0.021077</td>\n",
       "      <td>0.048402</td>\n",
       "      <td>-0.004868</td>\n",
       "      <td>0.018495</td>\n",
       "      <td>-0.027895</td>\n",
       "    </tr>\n",
       "  </tbody>\n",
       "</table>\n",
       "<p>3 rows × 100000 columns</p>\n",
       "</div>"
      ],
      "text/plain": [
       "               0         1         2         3         4         5      \\\n",
       "2023-10-01  0.069941  0.039499 -0.007102  0.045147  0.038490  0.021509   \n",
       "2023-10-02 -0.030607  0.022605  0.017740 -0.016476  0.044717  0.013081   \n",
       "2023-10-03 -0.014206 -0.039572  0.044526 -0.007405  0.000737 -0.002065   \n",
       "\n",
       "               6         7         8         9      ...     99990     99991  \\\n",
       "2023-10-01  0.030123 -0.041006 -0.049728 -0.057288  ... -0.047371  0.015140   \n",
       "2023-10-02 -0.002024  0.035267 -0.044840 -0.034304  ... -0.002240  0.058445   \n",
       "2023-10-03 -0.001999  0.016839 -0.050116  0.004837  ... -0.031653 -0.023002   \n",
       "\n",
       "               99992     99993     99994     99995     99996     99997  \\\n",
       "2023-10-01  0.014721 -0.085442 -0.093796 -0.056609 -0.015257  0.021389   \n",
       "2023-10-02  0.045519 -0.026581 -0.013151  0.015595 -0.083514 -0.024934   \n",
       "2023-10-03  0.034527 -0.032238  0.026444 -0.021077  0.048402 -0.004868   \n",
       "\n",
       "               99998     99999  \n",
       "2023-10-01 -0.031531 -0.010691  \n",
       "2023-10-02 -0.018408  0.072777  \n",
       "2023-10-03  0.018495 -0.027895  \n",
       "\n",
       "[3 rows x 100000 columns]"
      ]
     },
     "execution_count": 81,
     "metadata": {},
     "output_type": "execute_result"
    }
   ],
   "source": [
    "R_MELI.head(3)"
   ]
  },
  {
   "cell_type": "markdown",
   "id": "48c8d332",
   "metadata": {},
   "source": [
    "6. Use los datos de simulación para obtener los precios proyectados al cierre para ambas empresas en estos meses."
   ]
  },
  {
   "cell_type": "code",
   "execution_count": 91,
   "id": "1f21036c",
   "metadata": {},
   "outputs": [],
   "source": [
    "sim_meli = sim_R(R[\"MELI\"].mean(), R[\"MELI\"].std(),\"2023-10-16\", 100, 10000) \n",
    "sim_googl = sim_R(R[\"GOOGL\"].mean(), R[\"GOOGL\"].std(),\"2023-10-16\", 100, 10000)"
   ]
  },
  {
   "cell_type": "code",
   "execution_count": 92,
   "id": "05aa706c",
   "metadata": {},
   "outputs": [],
   "source": [
    "sim_precios_meli = data[\"MELI\"][-1] * (1 + sim_meli).cumprod()\n",
    "sim_precios_googl = data[\"GOOGL\"][-1] * (1 + sim_googl).cumprod()"
   ]
  },
  {
   "cell_type": "markdown",
   "id": "9686d10c",
   "metadata": {},
   "source": [
    "7. En un gráfico muestre la evolución de ambas probabilidades de obtener un retorno del 10%. ¿Cuál genera mayores expectativas?"
   ]
  },
  {
   "cell_type": "code",
   "execution_count": null,
   "id": "7e0e72e8",
   "metadata": {},
   "outputs": [],
   "source": [
    "porcentaje = 1.10 #Porcentaje del 10%\n",
    "valor_deseado_meli = data[\"MELI\"][-1] * porcentaje\n",
    "valor_deseado_googl = data[\"GOOGL\"][-1] * porcentaje"
   ]
  },
  {
   "cell_type": "code",
   "execution_count": 94,
   "id": "9607a80a",
   "metadata": {},
   "outputs": [],
   "source": [
    "sobrepasa_meli = valor_deseado_meli <= sim_precios_meli\n",
    "sobrepasa_googl = valor_deseado_googl <= sim_precios_googl"
   ]
  },
  {
   "cell_type": "code",
   "execution_count": 95,
   "id": "ad6e9d47",
   "metadata": {},
   "outputs": [],
   "source": [
    "probabilidad_meli =  sobrepasa_meli.mean(axis=1)\n",
    "probabilidad_googl =  sobrepasa_googl.mean(axis=1)"
   ]
  },
  {
   "cell_type": "code",
   "execution_count": 98,
   "id": "7305e58f",
   "metadata": {},
   "outputs": [
    {
     "data": {
      "text/plain": [
       "<Axes: >"
      ]
     },
     "execution_count": 98,
     "metadata": {},
     "output_type": "execute_result"
    },
    {
     "data": {
      "image/png": "[encoded data removed]",
      "text/plain": [
       "<Figure size 640x480 with 1 Axes>"
      ]
     },
     "metadata": {},
     "output_type": "display_data"
    }
   ],
   "source": [
    "tabla = pd.DataFrame(index=probabilidad_meli.index)\n",
    "tabla[\"Mercado Libre\"] = probabilidad_meli\n",
    "tabla[\"Google\"] = probabilidad_googl\n",
    "tabla.plot(grid=True)"
   ]
  },
  {
   "cell_type": "code",
   "execution_count": 99,
   "id": "8f00c0bf",
   "metadata": {},
   "outputs": [
    {
     "data": {
      "text/plain": [
       "<Axes: xlabel='Date'>"
      ]
     },
     "execution_count": 99,
     "metadata": {},
     "output_type": "execute_result"
    },
    {
     "data": {
      "image/png": "[encoded data removed]",
      "text/plain": [
       "<Figure size 640x480 with 1 Axes>"
      ]
     },
     "metadata": {},
     "output_type": "display_data"
    }
   ],
   "source": [
    "data.plot()"
   ]
  },
  {
   "cell_type": "markdown",
   "id": "8463880e",
   "metadata": {},
   "source": [
    "Genera más expectativas Mercado Libre"
   ]
  }
 ],
 "metadata": {
  "kernelspec": {
   "display_name": "Python 3 (ipykernel)",
   "language": "python",
   "name": "python3"
  },
  "language_info": {
   "codemirror_mode": {
    "name": "ipython",
    "version": 3
   },
   "file_extension": ".py",
   "mimetype": "text/x-python",
   "name": "python",
   "nbconvert_exporter": "python",
   "pygments_lexer": "ipython3",
   "version": "3.11.4"
  }
 },
 "nbformat": 4,
 "nbformat_minor": 5
}
