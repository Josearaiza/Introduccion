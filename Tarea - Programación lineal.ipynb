{
 "cells": [
  {
   "cell_type": "markdown",
   "metadata": {},
   "source": [
    "#### José Manuel Ramírez Araiza. 02/09/23"
   ]
  },
  {
   "cell_type": "markdown",
   "metadata": {},
   "source": [
    "# Tarea - Programación lineal"
   ]
  },
  {
   "cell_type": "markdown",
   "metadata": {},
   "source": [
    "### Diseño de la Dieta Óptima\n",
    "\n",
    "Se quiere producir comida para gatos de la manera más barata, no obstante se debe también asegurar que se cumplan los datos requeridos de analisis nutricional. Por lo que se quiere variar la cantidad de cada ingrediente para cumplir con los estandares nutricionales. Los requisitos que se tienen es que en $100$ gramos, se deben tener **por lo menos** $8$ gramos de proteína y $6$ gramos de grasa. Así mismo, no se debe tener más de $2$ gramos de fibra y $0.4$ gramos de sal.  \n",
    "\n",
    "Los datos nutricionales se pueden obtener de la siguiente tabla:\n",
    "\n",
    "Ingrediente|Proteína|Grasa|Fibra|Sal\n",
    ":----|----|----|----|----\n",
    "Pollo|  10.0%|08.0%|00.1%|00.2%\n",
    "Carne|  20.0%|10.0%|00.5%|00.5%\n",
    "Cordero|15.0%|11.0%|00.5%|00.7%\n",
    "Arroz|  00.0%|01.0%|10.0%|00.2%\n",
    "Trigo|  04.0%|01.0%|15.0%|00.8%\n",
    "Gel|    00.0%|00.0%|00.0%|00.0%\n",
    "\n",
    "Los costos de cada producto son:\n",
    "\n",
    "Ingrediente|Costo por gramo\n",
    ":----|----\n",
    "Pollo|$\\$$0.013\n",
    "Carne|$\\$$0.008\n",
    "Cordero|$\\$$0.010\n",
    "Arroz|$\\$$0.002\n",
    "Trigo|$\\$$0.005\n",
    "Gel|$\\$$0.001    \n",
    "\n",
    "Lo que se busca optimizar en este caso es la cantidad de productos que se debe utilizar en la comida de gato, minimizando el costo total. Para simplificar la notación use las siguientes variables: \n",
    "\n",
    "+ $x_1:$ Gramos de pollo  \n",
    "+ $x_2:$ Gramos de carne  \n",
    "+ $x_3:$ Gramos de cordero  \n",
    "+ $x_4:$ Gramos de arroz  \n",
    "+ $x_5:$ Gramos de trigo  \n",
    "+ $x_6:$ Gramos de gel\n",
    "\n",
    "La tarea consiste en plantear el problemade programación lineal que permita satisfacer las necesidades alimenticias del gato al tiempo que minimice el costo total y resolverlo con `linprog`."
   ]
  },
  {
   "cell_type": "markdown",
   "metadata": {},
   "source": [
    "### Solución\n",
    "1. Minimizar\n",
    "$$ Z=0.013x_1+0.008x_2+0.010x_3+0.002x_4+0.005x_5+0.001x_6 $$\n",
    "2. Restricciones:\n",
    "\n",
    "- a) De proteína:\n",
    "$$ 10x_1+2x_2+15x_3+0x_4+4x_5+0x_6>=8 $$\n",
    "- b) De grasa:\n",
    "$$ 8x_1+10x_2+11x_3+1x_4+1x_5+0x_6>=6 $$\n",
    "- c) De fibra: \n",
    "$$ 0.1x_1+0.5x_2+0.5x_3+10x_4+15x_5+0x_6<=2 $$\n",
    "- d) De sal:\n",
    "$$ 0.2x_1+0.5x_2+0.7x_3+0.2x_4+0.8x_5+0x_6<=0.4 $$\n",
    "- e) De cantidades no negativas:\n",
    "$$ x_1,x_2,x_3,x_4,x_5,x_6>=0 $$"
   ]
  },
  {
   "cell_type": "code",
   "execution_count": 4,
   "metadata": {},
   "outputs": [
    {
     "name": "stdout",
     "output_type": "stream",
     "text": [
      "Solución óptima encontrada:\n",
      "Gramos de pollo: 0.0\n",
      "Gramos de carne: 60.0\n",
      "Gramos de cordero: 0.0\n",
      "Gramos de arroz: 0.0\n",
      "Gramos de trigo: 0.0\n",
      "Gramos de gel: 0.0\n",
      "Costo total mínimo: 0.48\n"
     ]
    }
   ],
   "source": [
    "import numpy as np\n",
    "import scipy.optimize as opt\n",
    "\n",
    "# Coeficientes de la función objetivo (costo por gramo)\n",
    "c = np.array([0.013, 0.008, 0.010, 0.002, 0.005, 0.001])\n",
    "\n",
    "# Coeficientes de las restricciones de desigualdad (nutrientes en 100 gramos)\n",
    "# Los coeficientes son negativos porque estamos llevando todo al lado izquierdo de las desigualdades.\n",
    "A = np.array([\n",
    "    [-0.10, -0.20, -0.15, 0.00, -0.04, 0.00],  # Proteína\n",
    "    [-0.08, -0.10, -0.11, -0.01, -0.01, 0.00],  # Grasa\n",
    "    [0.001, 0.005, 0.005, -0.10, -0.15, 0.00],  # Fibra\n",
    "    [0.002, 0.005, 0.007, 0.002, 0.008, 0.00],  # Sal\n",
    "    [1.00, 1.00, 1.00, 1.00, 1.00, 1.00],  # Total gramos en la lata\n",
    "])\n",
    "\n",
    "# Lados derecho de las restricciones de desigualdad (nutrientes requeridos)\n",
    "b = np.array([-8, -6, 2, 0.4, 100])  # Agregamos la restricción de 100 gramos en la lata\n",
    "\n",
    "# Límites de las variables (De cantidades no negativas)\n",
    "x_bounds = [(0, None)] * 6  # x_i >= 0 para todas las variables\n",
    "\n",
    "# Resolver el problema\n",
    "res = opt.linprog(c, A_ub=A, b_ub=b, bounds=x_bounds, method='highs')\n",
    "\n",
    "if res.success:\n",
    "    print(\"Solución óptima encontrada:\")\n",
    "    print(\"Gramos de pollo:\", res.x[0])\n",
    "    print(\"Gramos de carne:\", res.x[1])\n",
    "    print(\"Gramos de cordero:\", res.x[2])\n",
    "    print(\"Gramos de arroz:\", res.x[3])\n",
    "    print(\"Gramos de trigo:\", res.x[4])\n",
    "    print(\"Gramos de gel:\", res.x[5])\n",
    "    print(\"Costo total mínimo:\", res.fun)\n",
    "else:\n",
    "    print(\"No se encontró una solución óptima.\")\n",
    "\n"
   ]
  },
  {
   "cell_type": "code",
   "execution_count": null,
   "metadata": {},
   "outputs": [],
   "source": []
  },
  {
   "cell_type": "code",
   "execution_count": null,
   "metadata": {},
   "outputs": [],
   "source": []
  },
  {
   "cell_type": "code",
   "execution_count": null,
   "metadata": {},
   "outputs": [],
   "source": []
  },
  {
   "cell_type": "markdown",
   "metadata": {},
   "source": [
    "### Problema de distribución de energía eléctrica\n",
    "\n",
    "La Comisión Federal de Electricidad **(CFE)** dispone de cuatro plantas de generación para satisfacer la demanda diaria eléctrica en cuatro ciudades, Guadalajara, León y Morelia. Las plantas $1$, $2$ y $3$ pueden satisfacer $80$, $40$ y $60$ millones de KW al día respectivamente. Las necesidades de las ciudades de Guadalajara, León y Morelia son de $70$, $40$ y $70$ millones de Kw al día respectivamente. \n",
    "\n",
    "\n",
    "Los costos asociados al envío de suministro energético por cada millón de Kw entre cada planta y cada ciudad son los registrados en la siguiente tabla. \n",
    "\n",
    "-|Guadalajara|León|Morelia\n",
    ":----|----|----|----\n",
    "Planta 1|5|2|7\n",
    "Planta 2|3|6|6\n",
    "Planta 3|6|1|2\n",
    "\n",
    "Y por último, las restricciones del problema, van a estar dadas por las capacidades de oferta y demanda de cada planta (en millones de KW) y cada ciudad.\n",
    "\n",
    "Para simplificar la notación use las siguientes variables:\n",
    "\n",
    "+ $x_1$: Kw (en millones) distribuidos de la Planta 1 a Guadalajara\n",
    "+ $x_2$: Kw (en millones) distribuidos de la Planta 1 a León\n",
    "+ $x_3$: Kw (en millones) distribuidos de la Planta 1 a Morelia\n",
    "+ $x_4$: Kw (en millones) distribuidos de la Planta 2 a Guadalajara\n",
    "+ $x_5$: Kw (en millones) distribuidos de la Planta 2 a León\n",
    "+ $x_6$: Kw (en millones) distribuidos de la Planta 2 a Morelia\n",
    "+ $x_7$: Kw (en millones) distribuidos de la Planta 3 a Guadalajara\n",
    "+ $x_8$: Kw (en millones) distribuidos de la Planta 3 a León\n",
    "+ $x_9$: Kw (en millones) distribuidos de la Planta 3 a Morelia\n",
    "\n",
    "La tarea consiste en plantear el problema de programación lineal que permita satisfacer las necesidades de todas las ciudades al tiempo que minimice los costos asociados a la distribución y resolverlo con `linprog`."
   ]
  },
  {
   "cell_type": "markdown",
   "metadata": {},
   "source": [
    "### Solución\n",
    "1. Miinimizar\n",
    "$$ Z=5x_1+2x_2+7x_3+3_x4+6x_5+6x_6+6x_7+x_8+2x_9 $$\n",
    "2. Restricciones:\n",
    "- a) De oferta de plantas:\n",
    "$$ x_1+x_2+x_3<=80 (Planta 1) $$\n",
    "$$ x_4+x_5+x_6<=40 (Planta 2) $$\n",
    "$$ x_7+x_8+x_9<=60 (Planta 3) $$\n",
    "- b) De demanda de ciudades:\n",
    "$$ x_1+x_4+x_7>=70 (Guadalajara) $$\n",
    "$$ x_2+x_5+x_8>=40 (León) $$\n",
    "$$ x_3+x_6+x_9>=70 (Morelia) $$\n",
    "- c) No puede haber envío negativo:\n",
    "$$ x_1,x_2,x_3,x_4,x_5,x_6,x_7,x_8,x_9>=0 $$"
   ]
  },
  {
   "cell_type": "code",
   "execution_count": 11,
   "metadata": {},
   "outputs": [
    {
     "name": "stdout",
     "output_type": "stream",
     "text": [
      "Solución óptima encontrada:\n",
      "Kw distribuidos de la Planta 1 a Guadalajara: 30.0\n",
      "Kw distribuidos de la Planta 1 a León: 40.0\n",
      "Kw distribuidos de la Planta 1 a Morelia: 10.0\n",
      "Kw distribuidos de la Planta 2 a Guadalajara: 40.0\n",
      "Kw distribuidos de la Planta 2 a León: 0.0\n",
      "Kw distribuidos de la Planta 2 a Morelia: 0.0\n",
      "Kw distribuidos de la Planta 3 a Guadalajara: 0.0\n",
      "Kw distribuidos de la Planta 3 a León: 0.0\n",
      "Kw distribuidos de la Planta 3 a Morelia: 60.0\n",
      "Costo total mínimo de distribución: 540.0\n"
     ]
    },
    {
     "data": {
      "text/plain": [
       "        message: Optimization terminated successfully. (HiGHS Status 7: Optimal)\n",
       "        success: True\n",
       "         status: 0\n",
       "            fun: 540.0\n",
       "              x: [ 3.000e+01  4.000e+01  1.000e+01  4.000e+01  0.000e+00\n",
       "                   0.000e+00  0.000e+00  0.000e+00  6.000e+01]\n",
       "            nit: 6\n",
       "          lower:  residual: [ 3.000e+01  4.000e+01  1.000e+01  4.000e+01\n",
       "                              0.000e+00  0.000e+00  0.000e+00  0.000e+00\n",
       "                              6.000e+01]\n",
       "                 marginals: [ 0.000e+00  0.000e+00  0.000e+00  0.000e+00\n",
       "                              6.000e+00  1.000e+00  6.000e+00  4.000e+00\n",
       "                              0.000e+00]\n",
       "          upper:  residual: [       inf        inf        inf        inf\n",
       "                                    inf        inf        inf        inf\n",
       "                                    inf]\n",
       "                 marginals: [ 0.000e+00  0.000e+00  0.000e+00  0.000e+00\n",
       "                              0.000e+00  0.000e+00  0.000e+00  0.000e+00\n",
       "                              0.000e+00]\n",
       "          eqlin:  residual: [ 0.000e+00  0.000e+00  0.000e+00]\n",
       "                 marginals: [-5.000e+00 -2.000e+00 -7.000e+00]\n",
       "        ineqlin:  residual: [ 0.000e+00  0.000e+00  0.000e+00]\n",
       "                 marginals: [-0.000e+00 -2.000e+00 -5.000e+00]\n",
       " mip_node_count: 0\n",
       " mip_dual_bound: 0.0\n",
       "        mip_gap: 0.0"
      ]
     },
     "execution_count": 11,
     "metadata": {},
     "output_type": "execute_result"
    }
   ],
   "source": [
    "import numpy as np\n",
    "import scipy.optimize as opt\n",
    "\n",
    "# Coeficientes de la función objetivo (costos de distribución)\n",
    "c = np.array([5, 2, 7, 3, 6, 6, 6, 1, 2])\n",
    "\n",
    "# Coeficientes de las restricciones de oferta de plantas\n",
    "A_eq = np.array([\n",
    "    [1, 1, 1, 0, 0, 0, 0, 0, 0],  # Planta 1\n",
    "    [0, 0, 0, 1, 1, 1, 0, 0, 0],  # Planta 2\n",
    "    [0, 0, 0, 0, 0, 0, 1, 1, 1],  # Planta 3\n",
    "])\n",
    "\n",
    "# Lados derecho de las restricciones de oferta de plantas\n",
    "b_eq = np.array([80, 40, 60])\n",
    "\n",
    "# Coeficientes de las restricciones de demanda de ciudades\n",
    "A_ub = np.array([\n",
    "    [-1, 0, 0, -1, 0, 0, -1, 0, 0],  # Guadalajara\n",
    "    [0, -1, 0, 0, -1, 0, 0, -1, 0],  # León\n",
    "    [0, 0, -1, 0, 0, -1, 0, 0, -1],  # Morelia\n",
    "])\n",
    "\n",
    "# Lados derecho de las restricciones de demanda de ciudades\n",
    "b_ub = np.array([-70, -40, -70])\n",
    "\n",
    "# Límites de las variables (No puede haber envío negativo)\n",
    "x_bounds = [(0, None)] * 9  # x_i >= 0 para todas las variables\n",
    "\n",
    "\n",
    "# Resolver\n",
    "res = linprog(c, A_ub=A_ub, b_ub=b_ub, A_eq=A_eq, b_eq=b_eq, bounds=x_bounds, method='highs')\n",
    "\n",
    "if res.success:\n",
    "    print(\"Solución óptima encontrada:\")\n",
    "    print(\"Kw distribuidos de la Planta 1 a Guadalajara:\", res.x[0])\n",
    "    print(\"Kw distribuidos de la Planta 1 a León:\", res.x[1])\n",
    "    print(\"Kw distribuidos de la Planta 1 a Morelia:\", res.x[2])\n",
    "    print(\"Kw distribuidos de la Planta 2 a Guadalajara:\", res.x[3])\n",
    "    print(\"Kw distribuidos de la Planta 2 a León:\", res.x[4])\n",
    "    print(\"Kw distribuidos de la Planta 2 a Morelia:\", res.x[5])\n",
    "    print(\"Kw distribuidos de la Planta 3 a Guadalajara:\", res.x[6])\n",
    "    print(\"Kw distribuidos de la Planta 3 a León:\", res.x[7])\n",
    "    print(\"Kw distribuidos de la Planta 3 a Morelia:\", res.x[8])\n",
    "    print(\"Costo total mínimo de distribución:\", res.fun)\n",
    "else:\n",
    "    print(\"No se encontró una solución óptima.\")\n",
    "opt.linprog(c, A_eq, b_eq, A_ub, b_ub)"
   ]
  },
  {
   "cell_type": "code",
   "execution_count": null,
   "metadata": {},
   "outputs": [],
   "source": []
  },
  {
   "cell_type": "code",
   "execution_count": null,
   "metadata": {},
   "outputs": [],
   "source": []
  }
 ],
 "metadata": {
  "kernelspec": {
   "display_name": "Python 3 (ipykernel)",
   "language": "python",
   "name": "python3"
  },
  "language_info": {
   "codemirror_mode": {
    "name": "ipython",
    "version": 3
   },
   "file_extension": ".py",
   "mimetype": "text/x-python",
   "name": "python",
   "nbconvert_exporter": "python",
   "pygments_lexer": "ipython3",
   "version": "3.11.4"
  }
 },
 "nbformat": 4,
 "nbformat_minor": 2
}
