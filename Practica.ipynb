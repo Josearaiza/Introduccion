{
 "cells": [
  {
   "cell_type": "markdown",
   "id": "35b68929",
   "metadata": {},
   "source": [
    "<em>14-08-23</em>   \n",
    "<em>José Manuel Ramírez Araiza</em>"
   ]
  },
  {
   "cell_type": "markdown",
   "id": "2bd3814d",
   "metadata": {},
   "source": [
    "# Presentación"
   ]
  },
  {
   "cell_type": "markdown",
   "id": "46650150",
   "metadata": {},
   "source": [
    "## Ingeniería Civil"
   ]
  },
  {
   "cell_type": "markdown",
   "id": "9c975ade",
   "metadata": {},
   "source": [
    "Me llamo José, tengo 19 años, estoy en tercer semestre de **Ingeniería Civil.**    \n",
    "En mi <em>tiempo libre</em> voy al <em>gimnasio</em> y me gusta practicar <em>natación.</em>"
   ]
  },
  {
   "cell_type": "markdown",
   "id": "15821b8b",
   "metadata": {},
   "source": [
    "Un tema cualquiera de mi carrera podría ser Cálculo Diferencial.   \n",
    "Algunos temas que se ven en esa materia son:\n",
    "- Optimización\n",
    "- Derivadas\n",
    "- Límites\n",
    "- Derivadas Implícitas  \n",
    "\n",
    "En la cual se ven ecuaciones que se deben de derivar como:\n",
    "1. $ \\frac{\\sqrt{x+5}}{3x+2} $\n",
    "\n",
    "\n",
    "2. $ \\frac{\\sqrt{25x-10x}}{4} $\n",
    "\n",
    "\n",
    "3. $ 8x+3 $"
   ]
  },
  {
   "cell_type": "markdown",
   "id": "f1fbb020",
   "metadata": {},
   "source": [
    "![](https://www.google.com/url?sa=i&url=http%3A%2F%2Fvirtual.itpachuca.edu.mx%2Fmoodle%2Fcourse%2Finfo.php%3Fid%3D522&psig=AOvVaw3qHCn3hSHcpuSedFzvy9iB&ust=1692142129045000&source=images&cd=vfe&opi=89978449&ved=0CBAQjRxqFwoTCOCOtOem3YADFQAAAAAdAAAAABAZ)"
   ]
  },
  {
   "cell_type": "markdown",
   "id": "9fbda1e3",
   "metadata": {},
   "source": [
    "![](https://infolibros.org/wp-content/uploads/2021/07/Libros-de-Calculo-Diferencial.jpg)"
   ]
  }
 ],
 "metadata": {
  "kernelspec": {
   "display_name": "Python 3 (ipykernel)",
   "language": "python",
   "name": "python3"
  },
  "language_info": {
   "codemirror_mode": {
    "name": "ipython",
    "version": 3
   },
   "file_extension": ".py",
   "mimetype": "text/x-python",
   "name": "python",
   "nbconvert_exporter": "python",
   "pygments_lexer": "ipython3",
   "version": "3.11.4"
  }
 },
 "nbformat": 4,
 "nbformat_minor": 5
}
